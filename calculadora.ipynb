{
 "cells": [
  {
   "cell_type": "code",
   "execution_count": 21,
   "metadata": {},
   "outputs": [
    {
     "name": "stdout",
     "output_type": "stream",
     "text": [
      "Esta calculadora va a sumar, restar, multiplicar o dividir segun lo que usted quiera\n",
      "\n",
      "******************************************\n",
      "*                1 SUMAR                 *\n",
      "*                2 RESTAR                *\n",
      "*                3 DIVIDIR               *\n",
      "*                4 MULTIPLICAR           *\n",
      "*                5 SALIR                 *\n",
      "******************************************\n",
      "\n"
     ]
    }
   ],
   "source": [
    "print(\"Esta calculadora va a sumar, restar, multiplicar o dividir segun lo que usted quiera\")\n",
    "\n",
    "menuInicio= '''\n",
    "******************************************\n",
    "*                1 SUMAR                 *\n",
    "*                2 RESTAR                *\n",
    "*                3 DIVIDIR               *\n",
    "*                4 MULTIPLICAR           *\n",
    "*                5 SALIR                 *\n",
    "******************************************\n",
    "'''\n",
    "print (menuInicio)"
   ]
  },
  {
   "cell_type": "code",
   "execution_count": 22,
   "metadata": {},
   "outputs": [],
   "source": [
    "opcion= int (input (\"ingrese que operacion quiere realizar\"))\n",
    "\n",
    "num1 = int (input (\"Ingrese el primer numero\"))\n",
    "num2 = int (input (\"Ingrese el segundo numero\"))"
   ]
  },
  {
   "cell_type": "code",
   "execution_count": 23,
   "metadata": {},
   "outputs": [],
   "source": [
    "def suma (a, b):\n",
    "   return (a + b)\n",
    "\n",
    "def resta (a, b):\n",
    "    return (a - b)\n",
    "\n",
    "def multiplicacion (a, b):\n",
    "    return (a * b)\n",
    "\n",
    "def division (a, b):\n",
    "    return (a / b)"
   ]
  },
  {
   "cell_type": "code",
   "execution_count": 24,
   "metadata": {},
   "outputs": [
    {
     "name": "stdout",
     "output_type": "stream",
     "text": [
      "1.0\n"
     ]
    }
   ],
   "source": [
    "if opcion == 1 :\n",
    "    print (suma(num1,num2))\n",
    "\n",
    "elif opcion == 2 :\n",
    "    print (resta(num1, num2))\n",
    "\n",
    "elif opcion == 3 :\n",
    "    print (multiplicacion(num1, num2))\n",
    "\n",
    "elif opcion == 4 :\n",
    "    print (division(num1, num2))\n",
    "\n",
    "else:\n",
    "    print(\"gracias por ver el programa\")\n",
    "    (exit)"
   ]
  }
 ],
 "metadata": {
  "kernelspec": {
   "display_name": "Python 3",
   "language": "python",
   "name": "python3"
  },
  "language_info": {
   "codemirror_mode": {
    "name": "ipython",
    "version": 3
   },
   "file_extension": ".py",
   "mimetype": "text/x-python",
   "name": "python",
   "nbconvert_exporter": "python",
   "pygments_lexer": "ipython3",
   "version": "3.11.2"
  },
  "orig_nbformat": 4
 },
 "nbformat": 4,
 "nbformat_minor": 2
}
