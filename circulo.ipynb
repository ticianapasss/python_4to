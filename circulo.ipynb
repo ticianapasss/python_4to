{
 "cells": [
  {
   "cell_type": "code",
   "execution_count": null,
   "metadata": {},
   "outputs": [],
   "source": [
    "radio = float(input(\"ingrese el valor del raido del circulo: \"))"
   ]
  },
  {
   "cell_type": "code",
   "execution_count": null,
   "metadata": {},
   "outputs": [],
   "source": [
    "def calcularArea(radio):\n",
    "    area = 3.14 * radio**2\n",
    "    return (area)"
   ]
  },
  {
   "cell_type": "code",
   "execution_count": null,
   "metadata": {},
   "outputs": [],
   "source": [
    "def calcularPerimetro(radio):\n",
    "    perimetro = 2 * 3.14 * radio\n",
    "    return (perimetro)"
   ]
  },
  {
   "cell_type": "code",
   "execution_count": null,
   "metadata": {},
   "outputs": [],
   "source": [
    "print(calcularArea(radio))\n",
    "print(calcularPerimetro(radio))"
   ]
  }
 ],
 "metadata": {
  "language_info": {
   "name": "python"
  },
  "orig_nbformat": 4
 },
 "nbformat": 4,
 "nbformat_minor": 2
}
